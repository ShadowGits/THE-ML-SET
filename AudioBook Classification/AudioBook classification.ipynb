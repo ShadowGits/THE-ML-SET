{
 "cells": [
  {
   "cell_type": "code",
   "execution_count": 11,
   "metadata": {},
   "outputs": [],
   "source": [
    "import numpy as np\n",
    "from sklearn import preprocessing\n",
    "\n",
    "raw_csv_data=np.loadtxt(\"Audiobooks_data.csv\",delimiter=',')\n",
    "\n",
    "unscaled_inputs_all=raw_csv_data[:,1:-1]\n",
    "targets_all=raw_csv_data[:,-1]"
   ]
  },
  {
   "cell_type": "code",
   "execution_count": 12,
   "metadata": {},
   "outputs": [],
   "source": [
    "#Balancing the dataset\n",
    "\n",
    "ones_in_target=int(np.sum(targets_all))\n",
    "zeros_counter=0\n",
    "indices_to_remove=[]\n",
    "\n",
    "for i in range(targets_all.shape[0]):\n",
    "    if targets_all[i]==0:\n",
    "        zeros_counter+=1\n",
    "        if zeros_counter>ones_in_target:\n",
    "            indices_to_remove.append(i)\n",
    "            \n",
    "            \n",
    "unscaled_inputs_balanced=np.delete(unscaled_inputs_all,indices_to_remove,axis=0)\n",
    "targets_all_balanced=np.delete(targets_all,indices_to_remove,axis=0)"
   ]
  },
  {
   "cell_type": "code",
   "execution_count": 13,
   "metadata": {},
   "outputs": [],
   "source": [
    "#Scale the inputs\n",
    "scaled_inputs=preprocessing.scale(unscaled_inputs_balanced)"
   ]
  },
  {
   "cell_type": "code",
   "execution_count": 14,
   "metadata": {},
   "outputs": [],
   "source": [
    "#Shuffle the data\n",
    "shuffled_indices=np.arange(scaled_inputs.shape[0])\n",
    "np.random.shuffle(shuffled_indices)\n",
    "\n",
    "shuffled_inputs=scaled_inputs[shuffled_indices]\n",
    "shuffled_targets=targets_all_balanced[shuffled_indices]\n"
   ]
  },
  {
   "cell_type": "code",
   "execution_count": 15,
   "metadata": {},
   "outputs": [],
   "source": [
    "#Split data into train-test-validation by 80-10-10\n",
    "\n",
    "samples_count=shuffled_inputs.shape[0]\n",
    "\n",
    "train_count=int(0.8*samples_count)\n",
    "validation_count=int(0.1*samples_count)\n",
    "test_count=samples_count-train_count-validation_count\n",
    "\n",
    "\n",
    "train_inputs=shuffled_inputs[:train_count]\n",
    "train_targets=shuffled_targets[:train_count]\n",
    "\n",
    "validation_inputs=shuffled_inputs[train_count:train_count+validation_count]\n",
    "validation_targets=shuffled_targets[train_count:train_count+validation_count]\n",
    "\n",
    "test_inputs=shuffled_inputs[train_count+validation_count:]\n",
    "test_targets=shuffled_targets[train_count+validation_count:]\n"
   ]
  },
  {
   "cell_type": "code",
   "execution_count": 16,
   "metadata": {},
   "outputs": [],
   "source": [
    "#Save data in npz\n",
    "np.savez(\"Audiobooks_data_train\",inputs=train_inputs,targets=train_targets)\n",
    "np.savez(\"Audiobooks_data_validation\",inputs=validation_inputs,targets=validation_targets)\n",
    "np.savez(\"Audiobooks_data_test\",inputs=test_inputs,targets=test_targets)"
   ]
  },
  {
   "cell_type": "markdown",
   "metadata": {},
   "source": [
    "# Machine Learning Algorithm\n"
   ]
  },
  {
   "cell_type": "code",
   "execution_count": 35,
   "metadata": {},
   "outputs": [],
   "source": [
    "import numpy as np\n",
    "import tensorflow as tf\n",
    "from tensorflow.keras.layers import Flatten,Dense\n",
    "from tensorflow.keras import Sequential"
   ]
  },
  {
   "cell_type": "code",
   "execution_count": 36,
   "metadata": {},
   "outputs": [],
   "source": [
    "npz=np.load('Audiobooks_data_train.npz')\n",
    "\n",
    "train_inputs=npz['inputs'].astype(np.float)\n",
    "train_targets=npz['targets'].astype(np.int)\n",
    "\n",
    "\n",
    "npz=np.load('Audiobooks_data_validation.npz')\n",
    "\n",
    "validation_inputs=npz['inputs'].astype(np.float)\n",
    "validation_targets=npz['targets'].astype(np.int)\n",
    "\n",
    "\n",
    "npz=np.load('Audiobooks_data_test.npz')\n",
    "\n",
    "test_inputs=npz['inputs'].astype(np.float)\n",
    "test_targets=npz['targets'].astype(np.int)"
   ]
  },
  {
   "cell_type": "code",
   "execution_count": 37,
   "metadata": {},
   "outputs": [],
   "source": [
    "input_size=10\n",
    "output_size=2\n",
    "hidden_layer_size=50\n",
    "\n",
    "model=Sequential([\n",
    "    Dense(hidden_layer_size,activation='relu'),\n",
    "    Dense(hidden_layer_size,activation='relu'),\n",
    "    Dense(output_size,activation='softmax')\n",
    "])\n",
    "\n",
    "\n",
    "model.compile(optimizer='adam',loss=\"sparse_categorical_crossentropy\",metrics=['accuracy'])\n",
    "\n"
   ]
  },
  {
   "cell_type": "code",
   "execution_count": 39,
   "metadata": {},
   "outputs": [
    {
     "name": "stdout",
     "output_type": "stream",
     "text": [
      "Train on 3579 samples, validate on 447 samples\n",
      "Epoch 1/100\n",
      "3579/3579 - 0s - loss: 0.2412 - accuracy: 0.9078 - val_loss: 0.2724 - val_accuracy: 0.8926\n",
      "Epoch 2/100\n",
      "3579/3579 - 0s - loss: 0.2381 - accuracy: 0.9086 - val_loss: 0.2654 - val_accuracy: 0.8949\n",
      "Epoch 3/100\n",
      "3579/3579 - 0s - loss: 0.2347 - accuracy: 0.9098 - val_loss: 0.2645 - val_accuracy: 0.8949\n",
      "Epoch 4/100\n",
      "3579/3579 - 0s - loss: 0.2361 - accuracy: 0.9106 - val_loss: 0.2653 - val_accuracy: 0.9016\n",
      "Epoch 5/100\n",
      "3579/3579 - 0s - loss: 0.2334 - accuracy: 0.9111 - val_loss: 0.2576 - val_accuracy: 0.8971\n",
      "Epoch 6/100\n",
      "3579/3579 - 0s - loss: 0.2321 - accuracy: 0.9117 - val_loss: 0.2577 - val_accuracy: 0.8971\n",
      "Epoch 7/100\n",
      "3579/3579 - 0s - loss: 0.2306 - accuracy: 0.9103 - val_loss: 0.2581 - val_accuracy: 0.8971\n",
      "Epoch 8/100\n",
      "3579/3579 - 0s - loss: 0.2301 - accuracy: 0.9120 - val_loss: 0.2593 - val_accuracy: 0.8993\n"
     ]
    },
    {
     "data": {
      "text/plain": [
       "<tensorflow.python.keras.callbacks.History at 0x26b2a1e8a90>"
      ]
     },
     "execution_count": 39,
     "metadata": {},
     "output_type": "execute_result"
    }
   ],
   "source": [
    "BATCH_SIZE=100\n",
    "NUM_EPOCHS=100\n",
    "\n",
    "#EARLY STOPPING\n",
    "\n",
    "early_stopping=tf.keras.callbacks.EarlyStopping(patience=3)\n",
    "\n",
    "\n",
    "\n",
    "model.fit(train_inputs,train_targets,\n",
    "         batch_size=BATCH_SIZE,\n",
    "         epochs=NUM_EPOCHS,\n",
    "          callbacks=[early_stopping],\n",
    "         validation_data=(validation_inputs,validation_targets),verbose=2)\n"
   ]
  },
  {
   "cell_type": "code",
   "execution_count": 40,
   "metadata": {},
   "outputs": [
    {
     "name": "stdout",
     "output_type": "stream",
     "text": [
      "448/448 [==============================] - 0s 178us/sample - loss: 0.2191 - accuracy: 0.9241\n",
      "[0.21911550260015897, 0.92410713]\n"
     ]
    }
   ],
   "source": [
    "\n",
    "print(model.evaluate(test_inputs,test_targets))\n"
   ]
  },
  {
   "cell_type": "code",
   "execution_count": null,
   "metadata": {},
   "outputs": [],
   "source": []
  }
 ],
 "metadata": {
  "kernelspec": {
   "display_name": "Python 3",
   "language": "python",
   "name": "python3"
  },
  "language_info": {
   "codemirror_mode": {
    "name": "ipython",
    "version": 3
   },
   "file_extension": ".py",
   "mimetype": "text/x-python",
   "name": "python",
   "nbconvert_exporter": "python",
   "pygments_lexer": "ipython3",
   "version": "3.6.5"
  }
 },
 "nbformat": 4,
 "nbformat_minor": 4
}
